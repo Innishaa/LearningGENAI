{
  "nbformat": 4,
  "nbformat_minor": 0,
  "metadata": {
    "colab": {
      "provenance": [],
      "gpuType": "T4"
    },
    "kernelspec": {
      "name": "python3",
      "display_name": "Python 3"
    },
    "language_info": {
      "name": "python"
    },
    "accelerator": "GPU"
  },
  "cells": [
    {
      "cell_type": "code",
      "execution_count": null,
      "metadata": {
        "id": "tNxO6AcdYh4G"
      },
      "outputs": [],
      "source": [
        "!pip install transformers"
      ]
    },
    {
      "cell_type": "code",
      "source": [
        "from transformers import pipeline"
      ],
      "metadata": {
        "id": "ej8-EjNlYo5o"
      },
      "execution_count": null,
      "outputs": []
    },
    {
      "cell_type": "code",
      "source": [
        "text=\"Python is a high-level,general-purpose programming language. \"\n",
        "\n",
        "pipe= pipeline(\"text-to-speech\",model=\"suno/bark-small\",device=\"cuda\")\n",
        "\n",
        "output= pipe(text)"
      ],
      "metadata": {
        "id": "tVr0MEFPY1rV"
      },
      "execution_count": null,
      "outputs": []
    },
    {
      "cell_type": "code",
      "source": [
        "output"
      ],
      "metadata": {
        "id": "v_YEbH8gY7Do"
      },
      "execution_count": null,
      "outputs": []
    },
    {
      "cell_type": "code",
      "source": [
        "from IPython.display import Audio\n",
        "Audio(output[\"audio\"], rate=output[\"sampling_rate\"])"
      ],
      "metadata": {
        "id": "BelGR6-OY7e7"
      },
      "execution_count": null,
      "outputs": []
    }
  ]
}