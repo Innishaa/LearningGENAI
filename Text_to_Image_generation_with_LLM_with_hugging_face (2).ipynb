{
  "nbformat": 4,
  "nbformat_minor": 0,
  "metadata": {
    "colab": {
      "provenance": [],
      "gpuType": "T4"
    },
    "kernelspec": {
      "name": "python3",
      "display_name": "Python 3"
    },
    "language_info": {
      "name": "python"
    },
    "accelerator": "GPU"
  },
  "cells": [
    {
      "cell_type": "code",
      "execution_count": null,
      "metadata": {
        "id": "2PvJNiT_F7iE"
      },
      "outputs": [],
      "source": [
        "!pip install diffusers transformers accelerate"
      ]
    },
    {
      "cell_type": "code",
      "source": [
        "from diffusers import StableDiffusionPipeline\n",
        "import matplotlib.pyplot as plt\n",
        "import torch"
      ],
      "metadata": {
        "id": "WxIBIteWGZbW"
      },
      "execution_count": null,
      "outputs": []
    },
    {
      "cell_type": "code",
      "source": [
        "!pip show torch"
      ],
      "metadata": {
        "id": "DTpHh5P0Gmu7"
      },
      "execution_count": null,
      "outputs": []
    },
    {
      "cell_type": "code",
      "source": [
        "model_id1= \"dreamlike-art/dreamlike-diffusion-1.0\"\n",
        "model_id2=\"stabilityai/stable-diffusion-x1-base-1.0\"\n",
        "\n",
        "pipe=StableDiffusionPipeline.from_pretrained(model_id1, torch_dtype=torch.float16, use_safetensors=True)\n",
        "pipe= pipe.to(\"cuda\")\n"
      ],
      "metadata": {
        "id": "LHPg-pDZGpaD"
      },
      "execution_count": null,
      "outputs": []
    },
    {
      "cell_type": "code",
      "source": [
        "import torch\n",
        "print(torch.cuda.is_available())  # should return True\n",
        "print(torch.cuda.get_device_name(0))  # should print NVIDIA T4, etc.\n"
      ],
      "metadata": {
        "id": "N0Qx6q2PIny6"
      },
      "execution_count": null,
      "outputs": []
    },
    {
      "cell_type": "code",
      "source": [
        "prompt=\"\"\" dreamlikeart, a grungy women with rainbow hair, travelling between dimensions, dynamic pose, happy, soft eyes and narrow chin,\n",
        "extreme bokeh, dainty figure, long hair straight down, torn kawaii shirt and baggy jeans\n",
        "\"\"\""
      ],
      "metadata": {
        "id": "oVko4AlzIE6E"
      },
      "execution_count": null,
      "outputs": []
    },
    {
      "cell_type": "code",
      "source": [
        "image= pipe(prompt).images[0]"
      ],
      "metadata": {
        "id": "QIJVeVzEJ-G3"
      },
      "execution_count": null,
      "outputs": []
    },
    {
      "cell_type": "code",
      "source": [
        "print(\"[PROMPT]:\", prompt)\n",
        "plt.imshow(image);\n",
        "plt.axis('off');"
      ],
      "metadata": {
        "id": "INQC7HsIKMF6"
      },
      "execution_count": null,
      "outputs": []
    },
    {
      "cell_type": "code",
      "source": [
        "prompt2=\"\"\"A girl is sitting on a chair & she is accompanied by her tiger. Make sure to keep it cinematic and color to be golden iris\n",
        "\"\"\"\n",
        "image = pipe(prompt2).images[0]"
      ],
      "metadata": {
        "id": "bDVwHyeQKPKw"
      },
      "execution_count": null,
      "outputs": []
    },
    {
      "cell_type": "code",
      "source": [
        "print(\"[PROMPT]:\", prompt2)\n",
        "plt.imshow(image);\n",
        "plt.axis('off');"
      ],
      "metadata": {
        "id": "sd_kq_6MMLe3"
      },
      "execution_count": null,
      "outputs": []
    },
    {
      "cell_type": "markdown",
      "source": [
        "## Working with Stable Diffusion parameter\n",
        "\n",
        "\n",
        "*   Negative prompting\n",
        "*   num_interfernce_steps\n",
        "*   height\n",
        "*   weight\n",
        "*   num_images_per_prompt\n",
        "\n",
        "\n",
        "\n",
        "\n",
        "\n"
      ],
      "metadata": {
        "id": "bPkpVchJMtht"
      }
    },
    {
      "cell_type": "code",
      "source": [
        "def generate_image(pipe,prompt,params):\n",
        "  img=pipe(prompt,**params).images\n",
        "\n",
        "  num_images=len(img)\n",
        "  if num_images>1:\n",
        "    fig, ax=plt.subplots(nrows=1, ncols=num_images)\n",
        "    for i in range(num_images):\n",
        "      ax[i].imshow(img[i]);\n",
        "      ax[i].axis('off');\n",
        "\n",
        "  else:\n",
        "    fig= plt.figure()\n",
        "    plt.imshow(img[0]);\n",
        "    plt.axis('off');\n",
        "  plt.tight_layout()\n"
      ],
      "metadata": {
        "id": "0fdTHqSGMop0"
      },
      "execution_count": null,
      "outputs": []
    },
    {
      "cell_type": "code",
      "source": [
        "prompt=\"dreamslike, beautiful, girl playing the festival of colors, draped in traiditional Indian attire, throwing colors\"\n",
        "params={}"
      ],
      "metadata": {
        "id": "z6wCycOJ0YKT"
      },
      "execution_count": null,
      "outputs": []
    },
    {
      "cell_type": "code",
      "source": [
        "generate_image(pipe, prompt, params)"
      ],
      "metadata": {
        "id": "Nt9YJ6B41UdK"
      },
      "execution_count": null,
      "outputs": []
    },
    {
      "cell_type": "code",
      "source": [
        "params={'num_interference_steps':100}\n",
        "generate_image(pipe,prompt, params)"
      ],
      "metadata": {
        "id": "45sv3PmQ1a4F"
      },
      "execution_count": null,
      "outputs": []
    },
    {
      "cell_type": "code",
      "source": [
        "#height width\n",
        "params={'num_inference_stemps':100, 'width':512, 'height':int(1.5*640)}\n",
        "generate_image(pipe, prompt, params)"
      ],
      "metadata": {
        "id": "xn8rTD6O7RLJ"
      },
      "execution_count": null,
      "outputs": []
    },
    {
      "cell_type": "code",
      "source": [
        "#num_images_per prompt\n",
        "params={'num_interference_steps':100, 'num_images_per_prompt':2}\n",
        "\n",
        "generate_image(pipe,prompt,params)"
      ],
      "metadata": {
        "id": "MRTqJsQTD0-y"
      },
      "execution_count": null,
      "outputs": []
    },
    {
      "cell_type": "code",
      "source": [
        "#negative_prompt\n",
        "params={'num_interference_steps':100, 'num_images_per_prompt':2, 'negative_prompt':'ugly,distorted,low quality'}\n",
        "\n",
        "generate_image(pipe,prompt,params)"
      ],
      "metadata": {
        "id": "pz8L7FFWEkec"
      },
      "execution_count": null,
      "outputs": []
    }
  ]
}